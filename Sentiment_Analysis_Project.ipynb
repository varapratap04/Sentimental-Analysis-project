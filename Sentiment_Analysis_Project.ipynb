{
  "nbformat": 4,
  "nbformat_minor": 0,
  "metadata": {
    "colab": {
      "provenance": []
    },
    "kernelspec": {
      "name": "python3",
      "display_name": "Python 3"
    },
    "language_info": {
      "name": "python"
    }
  },
  "cells": [
    {
      "cell_type": "code",
      "execution_count": 2,
      "metadata": {
        "colab": {
          "base_uri": "https://localhost:8080/"
        },
        "id": "v956bZmUWhx-",
        "outputId": "613913eb-dcfb-4835-94d1-9a03fa59d2f8"
      },
      "outputs": [
        {
          "output_type": "stream",
          "name": "stdout",
          "text": [
            "Model Accuracy: 0.80\n",
            "Enter a review: FOOD IS GOOD\n",
            "User Review Prediction: Positive\n"
          ]
        }
      ],
      "source": [
        "import pandas as pd\n",
        "from sklearn.model_selection import train_test_split\n",
        "from sklearn.feature_extraction.text import CountVectorizer\n",
        "from sklearn.naive_bayes import MultinomialNB\n",
        "from sklearn.pipeline import make_pipeline\n",
        "from sklearn.metrics import accuracy_score\n",
        "\n",
        "# Load the dataset\n",
        "file_path = '/content/Sentiment Analysis for Restaurant_Reviews .csv'\n",
        "reviews_df = pd.read_csv(file_path)\n",
        "\n",
        "# Split the data into training and test sets\n",
        "X = reviews_df['Review']\n",
        "y = reviews_df['Liked']\n",
        "X_train, X_test, y_train, y_test = train_test_split(X, y, test_size=0.2, random_state=42)\n",
        "\n",
        "# Create a pipeline that includes a count vectorizer and a Naive Bayes classifier\n",
        "pipeline = make_pipeline(CountVectorizer(), MultinomialNB())\n",
        "\n",
        "# Train the model\n",
        "pipeline.fit(X_train, y_train)\n",
        "\n",
        "# Evaluate the model\n",
        "y_pred = pipeline.predict(X_test)\n",
        "accuracy = accuracy_score(y_test, y_pred)\n",
        "print(f'Model Accuracy: {accuracy:.2f}')\n",
        "\n",
        "# Function to predict based on user input\n",
        "def predict_review(user_input):\n",
        "    prediction = pipeline.predict([user_input])\n",
        "    return 'Positive' if prediction[0] == 1 else 'Negative'\n",
        "\n",
        "# Prompt the user to input a review\n",
        "user_review = input(\"Enter a review: \")\n",
        "print(f'User Review Prediction: {predict_review(user_review)}')"
      ]
    }
  ]
}